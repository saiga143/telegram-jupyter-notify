{
 "cells": [
  {
   "cell_type": "markdown",
   "id": "4641301a-98e3-4c63-9a0c-f884ee477e9f",
   "metadata": {},
   "source": [
    "# 📬 Telegram Notification for Jupyter Notebooks\n",
    "\n",
    "This notebook demonstrates how to use a Telegram bot to receive a message when your long-running cell or task finishes executing.\n",
    "\n",
    "You'll:\n",
    "- Create a Telegram bot using BotFather\n",
    "- Get your chat ID\n",
    "- Use Python's `requests` library to send a message\n",
    "- Trigger a notification at the end of your Jupyter cell\n",
    "\n",
    "*Great for remote or long-running notebooks.*\n"
   ]
  },
  {
   "cell_type": "markdown",
   "id": "14c89005-256d-48a6-a081-1c3f08461feb",
   "metadata": {},
   "source": [
    "## Install requirements"
   ]
  },
  {
   "cell_type": "code",
   "execution_count": null,
   "id": "54141f90-8c28-4b60-abb3-ce96f18481fe",
   "metadata": {},
   "outputs": [],
   "source": [
    "# Install the requests library (only needed once)\n",
    "!pip install requests"
   ]
  },
  {
   "cell_type": "markdown",
   "id": "3b14774f-0d55-44e5-ad33-8c4128a9e7a6",
   "metadata": {},
   "source": [
    "## Set Up Notifications Function"
   ]
  },
  {
   "cell_type": "code",
   "execution_count": null,
   "id": "a2fcdc81-2866-4816-900a-c68b78e27d6d",
   "metadata": {},
   "outputs": [],
   "source": [
    "import requests\n",
    "\n",
    "def telegram_notify(message, token, chat_id):\n",
    "    \"\"\"\n",
    "    Send a Telegram message to yourself using a bot.\n",
    "    \n",
    "    Parameters:\n",
    "    - message: Text to send\n",
    "    - token: Your bot token from BotFather\n",
    "    - chat_id: Your Telegram chat ID\n",
    "    \"\"\"\n",
    "    url = f\"https://api.telegram.org/bot{token}/sendMessage\"\n",
    "    payload = {\"chat_id\": chat_id, \"text\": message}\n",
    "    response = requests.post(url, data=payload)\n",
    "    \n",
    "    if response.status_code == 200:\n",
    "        print(\"✅ Notification sent!\")\n",
    "    else:\n",
    "        print(f\"❌ Failed to send notification: {response.text}\")\n"
   ]
  },
  {
   "cell_type": "markdown",
   "id": "ce7d2b32-929b-492e-b983-c124fd53427b",
   "metadata": {},
   "source": [
    "## Set your token and chat ID"
   ]
  },
  {
   "cell_type": "code",
   "execution_count": null,
   "id": "925c3834-433f-40cd-843e-d20172706269",
   "metadata": {},
   "outputs": [],
   "source": [
    "# Replace with your actual token and chat ID\n",
    "my_token = \"PASTE_YOUR_BOT_TOKEN_HERE\"\n",
    "my_chat_id = \"PASTE_YOUR_CHAT_ID_HERE\""
   ]
  },
  {
   "cell_type": "markdown",
   "id": "3a30b47a-4e01-4dff-be22-22cf3e4a6fed",
   "metadata": {},
   "source": [
    "## Example use case"
   ]
  },
  {
   "cell_type": "code",
   "execution_count": null,
   "id": "a61bce97-500a-4f4b-94a2-74d5f7147832",
   "metadata": {},
   "outputs": [],
   "source": [
    "# Simulate a long-running task\n",
    "import time\n",
    "print(\"⏳ Running task...\")\n",
    "time.sleep(5)  # Replace this with your actual code\n",
    "print(\"✅ Task complete.\")\n",
    "\n",
    "# Send a notification\n",
    "telegram_notify(\"✅ Your Jupyter cell has finished running!\", my_token, my_chat_id)"
   ]
  },
  {
   "cell_type": "markdown",
   "id": "e026dc49-372c-42a3-a372-5bacd68d4d63",
   "metadata": {},
   "source": [
    "## Bonus - Timestamp and Emojis"
   ]
  },
  {
   "cell_type": "code",
   "execution_count": null,
   "id": "35acd7aa-4aa7-4d99-a08c-6c80dd8d3f11",
   "metadata": {},
   "outputs": [],
   "source": [
    "from datetime import datetime\n",
    "\n",
    "msg = f\"✅ Task finished at {datetime.now().strftime('%Y-%m-%d %H:%M:%S')} ⏰\"\n",
    "telegram_notify(msg, my_token, my_chat_id)"
   ]
  },
  {
   "cell_type": "markdown",
   "id": "b8094ce0-c929-4d90-a772-57e6854af9f0",
   "metadata": {},
   "source": [
    "## Optional - Notify only on error"
   ]
  },
  {
   "cell_type": "code",
   "execution_count": null,
   "id": "ffa663de-6d3b-4592-b6ec-a6f215faf24c",
   "metadata": {},
   "outputs": [],
   "source": [
    "try:\n",
    "    # Put your risky code here\n",
    "    print(\"Running something risky...\")\n",
    "    x = 10 / 0  # Simulated error\n",
    "except Exception as e:\n",
    "    telegram_notify(f\"❌ Error in notebook: {str(e)}\", my_token, my_chat_id)"
   ]
  },
  {
   "cell_type": "markdown",
   "id": "8e5a8766-0379-4199-b70e-fa9a0489064b",
   "metadata": {},
   "source": [
    "--------------------------------------------------------------\n",
    "## Information about 'my_token' and 'chat_id'\n",
    "These variables(values) are unique for your Telegram bot and account.\n",
    "\n",
    "How and where to find them is explained in github repo and also in a small blogpost at this link: "
   ]
  },
  {
   "cell_type": "code",
   "execution_count": null,
   "id": "dfc8c6c3-b7a3-4dab-9807-7866ce3a60b7",
   "metadata": {},
   "outputs": [],
   "source": []
  }
 ],
 "metadata": {
  "kernelspec": {
   "display_name": "Python 3 (ipykernel)",
   "language": "python",
   "name": "python3"
  },
  "language_info": {
   "codemirror_mode": {
    "name": "ipython",
    "version": 3
   },
   "file_extension": ".py",
   "mimetype": "text/x-python",
   "name": "python",
   "nbconvert_exporter": "python",
   "pygments_lexer": "ipython3",
   "version": "3.13.0"
  }
 },
 "nbformat": 4,
 "nbformat_minor": 5
}
